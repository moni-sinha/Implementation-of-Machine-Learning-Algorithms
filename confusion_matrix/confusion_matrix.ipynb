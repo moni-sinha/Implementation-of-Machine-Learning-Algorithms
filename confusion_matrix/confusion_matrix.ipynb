{
  "nbformat": 4,
  "nbformat_minor": 0,
  "metadata": {
    "colab": {
      "name": "confusion_matrix.ipynb",
      "provenance": []
    },
    "kernelspec": {
      "name": "python3",
      "display_name": "Python 3"
    },
    "language_info": {
      "name": "python"
    }
  },
  "cells": [
    {
      "cell_type": "code",
      "metadata": {
        "colab": {
          "base_uri": "https://localhost:8080/",
          "height": 1000
        },
        "id": "eBov9ArOxrJM",
        "outputId": "abea611e-de6d-4df5-b61e-889d23bf48a3"
      },
      "source": [
        "import pandas as pd\n",
        "from sklearn.model_selection import train_test_split\n",
        "from sklearn.neighbors import KNeighborsClassifier \n",
        "from matplotlib import pyplot as plt\n",
        "from sklearn.metrics import confusion_matrix,plot_confusion_matrix,accuracy_score\n",
        "\n",
        "\n",
        "def split_data(X,Y):\n",
        "    X_train,X_test,y_train,y_test = train_test_split(X,Y,test_size=0.3)\n",
        "    return X_train,X_test,y_train,y_test\n",
        "\n",
        "def model_mat(X_train,X_test,y_train,y_test,name):\n",
        "    model = KNeighborsClassifier(n_neighbors=11)\n",
        "    model.fit(X_train,y_train)\n",
        "    predict = model.predict(X_test)\n",
        "    score = accuracy_score(y_test,predict)\n",
        "    # print(type(predict))\n",
        "    print('Accuracy : ',score)\n",
        "    mat = confusion_matrix(y_test,predict)\n",
        "    disp = plot_confusion_matrix(model,X_test,y_test)\n",
        "    name = 'Confusion Matrix of :' + name\n",
        "    disp.ax_.set_title(name)\n",
        "    plt.show()\n",
        "    return mat\n",
        "\n",
        "# Precision = TruePositives / (TruePositives + FalsePositives)\n",
        "def precision_conf(mat):\n",
        "    n = mat.shape[0]\n",
        "    num=0\n",
        "    deno=0\n",
        "    lst =[]\n",
        "    for i in range(n):\n",
        "        num = 0\n",
        "        deno = 0\n",
        "        num = mat[i,i]\n",
        "        for j in range(n):\n",
        "            deno = deno + mat[j,i]\n",
        "        lst.append(num/deno)\n",
        "    print(\"Precision of Each feature : \")\n",
        "    avg = 0\n",
        "    for i in range(len(lst)):\n",
        "        print(lst[i])\n",
        "        avg = avg + lst[i]\n",
        "    print(\"Overall precision : \",avg/(len(lst)))    \n",
        "\n",
        "# Recall = TruePositives / (TruePositives + FalseNegatives)\n",
        "def recall_conf(mat):\n",
        "    n = mat.shape[0]\n",
        "    num=0\n",
        "    deno=0\n",
        "    lst =[]\n",
        "    for i in range(n):\n",
        "        num = 0\n",
        "        deno = 0\n",
        "        num = mat[i,i]\n",
        "        for j in range(n):\n",
        "            deno = deno + mat[i,j]\n",
        "        lst.append(num/deno)\n",
        "    print(\"Recall of each feature : \")\n",
        "    avg = 0\n",
        "    for i in range(len(lst)):\n",
        "        print(lst[i])\n",
        "        avg = avg + lst[i]\n",
        "    # print(\"Overall Recall : \",avg/(len(lst)) \n",
        "    print(\"Overall Recall : \",avg/(len(lst)) )\n",
        "\n",
        "# FNR = FN/FN+TP\n",
        "def fnr(mat):\n",
        "    n = mat.shape[0]\n",
        "    num=0\n",
        "    deno=0\n",
        "    lst =[]\n",
        "    for i in range(n):\n",
        "        num = 0\n",
        "        deno = 0\n",
        "        num = mat[i,i]\n",
        "        for j in range(n):\n",
        "            deno = deno + mat[j,i]\n",
        "        num = deno - num\n",
        "        lst.append(num/deno)\n",
        "    print(\"False negative rate  : \")\n",
        "    avg = 0\n",
        "    for i in range(len(lst)):\n",
        "        print(lst[i])\n",
        "        avg = avg + lst[i]\n",
        "    print(\"Average FNR : \",avg/len(lst))    \n",
        "\n",
        "# FPR = FP/FP+TN\n",
        "def fpr(mat):\n",
        "    n = mat.shape[0]\n",
        "    num=0\n",
        "    deno=0\n",
        "    lst =[]\n",
        "    for i in range(n):\n",
        "        num = 0\n",
        "        deno = 0\n",
        "        num = mat[i,i]\n",
        "        for j in range(n):\n",
        "            deno = deno + mat[i,j]\n",
        "        num = deno - num\n",
        "        lst.append(num/deno)\n",
        "    print(\"False Positive rate  : \")\n",
        "    avg = 0\n",
        "    for i in range(len(lst)):\n",
        "        print(lst[i])\n",
        "        avg = avg + lst[i]\n",
        "    print(\"Average FPR : \",avg/len(lst))\n",
        "\n",
        "def ionosphere():\n",
        "    data = pd.read_csv(r\"/content/5.Class_Ionosphere.csv\")\n",
        "    X = data.drop(['Class','RRD2'],axis=1)\n",
        "    Y = data['Class']\n",
        "    X_train,X_test,y_train,y_test = split_data(X,Y)\n",
        "    print(\"Details of Class Ionosphere \")\n",
        "    mat = model_mat(X_train,X_test,y_train,y_test,\"Class Ionosphere\")\n",
        "    # print(mat) \n",
        "    precision_conf(mat)\n",
        "    recall_conf(mat)\n",
        "    fnr(mat)\n",
        "    fpr(mat)\n",
        "    \n",
        "def indian_liver():\n",
        "    data = pd.read_csv(r\"/content/5.indian_liver_patient.csv\",na_values=[''])\n",
        "    data = data.dropna()\n",
        "    X = data.drop(['Dataset'],axis=1)\n",
        "    Y = data['Dataset']\n",
        "    # print(X,Y)\n",
        "    # print(data)\n",
        "    X_train,X_test,y_train,y_test = split_data(X,Y)\n",
        "    print(\"\\n\\nDetails of Indian Liver patient \")\n",
        "    mat = model_mat(X_train,X_test,y_train,y_test,\"Indian Liver\")\n",
        "    # print(mat) \n",
        "    precision_conf(mat)\n",
        "    recall_conf(mat)\n",
        "    fnr(mat)\n",
        "    fpr(mat)\n",
        "\n",
        "def iris():\n",
        "    data = pd.read_csv(r\"/content/5.iris.csv\")\n",
        "    X = data.drop(['species'],axis=1)\n",
        "    Y = data['species']\n",
        "    # print(X,Y)\n",
        "    # print(data)\n",
        "    X_train,X_test,y_train,y_test = split_data(X,Y)\n",
        "    print(\"\\n\\nDetails of Iris \")\n",
        "    mat = model_mat(X_train,X_test,y_train,y_test,\"Iris\")\n",
        "    # print(mat) \n",
        "    precision_conf(mat)\n",
        "    recall_conf(mat)\n",
        "    fnr(mat)\n",
        "    fpr(mat)\n",
        "\n",
        "ionosphere()\n",
        "indian_liver()\n",
        "iris()"
      ],
      "execution_count": 19,
      "outputs": [
        {
          "output_type": "stream",
          "text": [
            "Details of Class Ionosphere \n",
            "Accuracy :  0.8301886792452831\n"
          ],
          "name": "stdout"
        },
        {
          "output_type": "display_data",
          "data": {
            "image/png": "[encoded data removed]",
            "text/plain": [
              "<Figure size 432x288 with 2 Axes>"
            ]
          },
          "metadata": {
            "tags": [],
            "needs_background": "light"
          }
        },
        {
          "output_type": "stream",
          "text": [
            "Precision of Each feature : \n",
            "0.92\n",
            "0.8024691358024691\n",
            "Overall precision :  0.8612345679012345\n",
            "Recall of each feature : \n",
            "0.5897435897435898\n",
            "0.9701492537313433\n",
            "Overall Recall :  0.7799464217374665\n",
            "False negative rate  : \n",
            "0.08\n",
            "0.19753086419753085\n",
            "Average FNR :  0.13876543209876543\n",
            "False Positive rate  : \n",
            "0.41025641025641024\n",
            "0.029850746268656716\n",
            "Average FPR :  0.22005357826253347\n",
            "\n",
            "\n",
            "Details of Indian Liver patient \n",
            "Accuracy :  0.6839080459770115\n"
          ],
          "name": "stdout"
        },
        {
          "output_type": "display_data",
          "data": {
            "image/png": "[encoded data removed]",
            "text/plain": [
              "<Figure size 432x288 with 2 Axes>"
            ]
          },
          "metadata": {
            "tags": [],
            "needs_background": "light"
          }
        },
        {
          "output_type": "stream",
          "text": [
            "Precision of Each feature : \n",
            "0.7588652482269503\n",
            "0.36363636363636365\n",
            "Overall precision :  0.561250805931657\n",
            "Recall of each feature : \n",
            "0.8359375\n",
            "0.2608695652173913\n",
            "Overall Recall :  0.5484035326086957\n",
            "False negative rate  : \n",
            "0.24113475177304963\n",
            "0.6363636363636364\n",
            "Average FNR :  0.438749194068343\n",
            "False Positive rate  : \n",
            "0.1640625\n",
            "0.7391304347826086\n",
            "Average FPR :  0.4515964673913043\n",
            "\n",
            "\n",
            "Details of Iris \n",
            "Accuracy :  0.9555555555555556\n"
          ],
          "name": "stdout"
        },
        {
          "output_type": "display_data",
          "data": {
            "image/png": "[encoded data removed]",
            "text/plain": [
              "<Figure size 432x288 with 2 Axes>"
            ]
          },
          "metadata": {
            "tags": [],
            "needs_background": "light"
          }
        },
        {
          "output_type": "stream",
          "text": [
            "Precision of Each feature : \n",
            "1.0\n",
            "0.9411764705882353\n",
            "0.9375\n",
            "Overall precision :  0.9595588235294118\n",
            "Recall of each feature : \n",
            "1.0\n",
            "0.9411764705882353\n",
            "0.9375\n",
            "Overall Recall :  0.9595588235294118\n",
            "False negative rate  : \n",
            "0.0\n",
            "0.058823529411764705\n",
            "0.0625\n",
            "Average FNR :  0.04044117647058824\n",
            "False Positive rate  : \n",
            "0.0\n",
            "0.058823529411764705\n",
            "0.0625\n",
            "Average FPR :  0.04044117647058824\n"
          ],
          "name": "stdout"
        }
      ]
    }
  ]
}