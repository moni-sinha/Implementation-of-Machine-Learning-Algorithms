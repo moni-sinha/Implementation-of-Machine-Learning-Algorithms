{
  "nbformat": 4,
  "nbformat_minor": 0,
  "metadata": {
    "colab": {
      "name": "linear_regression_residual_plot.ipynb",
      "provenance": []
    },
    "kernelspec": {
      "name": "python3",
      "display_name": "Python 3"
    },
    "language_info": {
      "name": "python"
    }
  },
  "cells": [
    {
      "cell_type": "code",
      "metadata": {
        "id": "HkHE8289qiqw"
      },
      "source": [
        "import pandas as pd\n",
        "import numpy as np\n",
        "import matplotlib.pyplot as plt\n",
        "%matplotlib inline"
      ],
      "execution_count": 11,
      "outputs": []
    },
    {
      "cell_type": "code",
      "metadata": {
        "colab": {
          "base_uri": "https://localhost:8080/"
        },
        "id": "-JBHb-sAtmuH",
        "outputId": "bd573bd2-b12a-4015-cce6-4291a14996e5"
      },
      "source": [
        "def mean(values):\n",
        "    return sum(values)/float(len(values))\n",
        "\n",
        "def variance(values,mean):\n",
        "    return sum([(x-mean)**2 for x in values])\n",
        "\n",
        "def covariance(x_train,mean_x,y_train,mean_y):\n",
        "    return sum([(x_train[i]-mean_x)*(y_train[i]-mean_y) for i in range(len(x_train))])\n",
        "\n",
        "def lin_reg(trainset,testset,b0,b1,x_test,y_test):\n",
        "    y_prediction=list()\n",
        "    for x in x_test:\n",
        "        hypothesis=b0+(b1*x)\n",
        "        y_prediction.append(hypothesis)\n",
        "    return y_prediction\n",
        "\n",
        "trainset = pd.read_csv(r\"/content/3.train.csv\")\n",
        "x_train=trainset.iloc[:, 0].values\n",
        "y_train=trainset.iloc[:, 1].values\n",
        "\n",
        "mean_x,mean_y=mean(x_train),mean(y_train)\n",
        "var_x,var_y=variance(x_train,mean_x),variance(y_train,mean_y)\n",
        "\n",
        "print('x-stats: ','mean=',mean_x,'variance=',var_x)\n",
        "print('y-stats: ','mean=',mean_y,'variance=',var_y)\n",
        "\n",
        "covar=covariance(x_train,mean_x,y_train,mean_y)\n",
        "print('covariance=',covar)\n",
        "\n",
        "#hypothesis function b0+b1*x\n",
        "b1=covar/var_x\n",
        "b0=mean_y-(b1*mean_x)\n",
        "print('b1=',b1)\n",
        "print('b0=',b0)\n",
        "\n",
        "testset = pd.read_csv(r\"/content/3.test.csv\")\n",
        "x_test=testset.iloc[:, 0].values\n",
        "y_test=testset.iloc[:, 1].values\n",
        "\n",
        "y_prediction=lin_reg(trainset,testset,b0,b1,x_test,y_test)"
      ],
      "execution_count": 12,
      "outputs": [
        {
          "output_type": "stream",
          "text": [
            "x-stats:  mean= 49.99285714285714 variance= 585404.9642857142\n",
            "y-stats:  mean= 49.91160845617139 variance= 591838.6593366332\n",
            "covariance= 585860.5545756883\n",
            "b1= 1.0007782480808478\n",
            "b0= -0.12015553181327476\n"
          ],
          "name": "stdout"
        }
      ]
    },
    {
      "cell_type": "code",
      "metadata": {
        "colab": {
          "base_uri": "https://localhost:8080/",
          "height": 295
        },
        "id": "g6XoZu3Itop4",
        "outputId": "b07b2ea0-168a-4888-c197-4dcd624e2005"
      },
      "source": [
        "plt.scatter(y_test,y_prediction,color='black')\n",
        "plt.title('scatter plot')\n",
        "plt.xlabel('tested y')\n",
        "plt.ylabel('predicted y')\n",
        "plt.show()"
      ],
      "execution_count": 13,
      "outputs": [
        {
          "output_type": "display_data",
          "data": {
            "image/png": "[encoded data removed]",
            "text/plain": [
              "<Figure size 432x288 with 1 Axes>"
            ]
          },
          "metadata": {
            "tags": [],
            "needs_background": "light"
          }
        }
      ]
    },
    {
      "cell_type": "markdown",
      "metadata": {
        "id": "rPMb2EfZuQpp"
      },
      "source": [
        "### *mean absolute error*"
      ]
    },
    {
      "cell_type": "code",
      "metadata": {
        "colab": {
          "base_uri": "https://localhost:8080/"
        },
        "id": "nHbN8zk2tsEZ",
        "outputId": "dcba0e1c-cbdd-444d-e437-bc6e3b839676"
      },
      "source": [
        "MAE = (np.abs(np.subtract(y_test, y_prediction))).mean()\n",
        "print('mean absolute error: ',MAE)"
      ],
      "execution_count": 14,
      "outputs": [
        {
          "output_type": "stream",
          "text": [
            "mean absolute error:  2.4158414585501435\n"
          ],
          "name": "stdout"
        }
      ]
    },
    {
      "cell_type": "markdown",
      "metadata": {
        "id": "vKsqxDmmvpe2"
      },
      "source": [
        "### *mean squared error*"
      ]
    },
    {
      "cell_type": "code",
      "metadata": {
        "colab": {
          "base_uri": "https://localhost:8080/"
        },
        "id": "qAo968Z2tsKp",
        "outputId": "a4207d8c-9c8b-43dc-f69b-89f6b92d250a"
      },
      "source": [
        "MSE = np.square(np.subtract(y_test, y_prediction)).mean() \n",
        "print('mean squared error: ',MSE)"
      ],
      "execution_count": 15,
      "outputs": [
        {
          "output_type": "stream",
          "text": [
            "mean squared error:  9.434852832251481\n"
          ],
          "name": "stdout"
        }
      ]
    },
    {
      "cell_type": "markdown",
      "metadata": {
        "id": "ktWEi-Y0vtHO"
      },
      "source": [
        "### *root-mean squared error*"
      ]
    },
    {
      "cell_type": "code",
      "metadata": {
        "colab": {
          "base_uri": "https://localhost:8080/"
        },
        "id": "6owxnqW_tsNi",
        "outputId": "7fd49561-f706-4682-8d87-0f5add588fc5"
      },
      "source": [
        "RMSE=np.sqrt(MSE)\n",
        "print('root mean squared error: ',RMSE)"
      ],
      "execution_count": 16,
      "outputs": [
        {
          "output_type": "stream",
          "text": [
            "root mean squared error:  3.071620554731896\n"
          ],
          "name": "stdout"
        }
      ]
    },
    {
      "cell_type": "code",
      "metadata": {
        "colab": {
          "base_uri": "https://localhost:8080/",
          "height": 423
        },
        "id": "S0rL3oevtsQS",
        "outputId": "fa01a7cf-cc20-4b5f-e56f-281c3ffd785b"
      },
      "source": [
        "data = pd.DataFrame({'Actual': y_test, 'Predicted': y_prediction})\n",
        "data"
      ],
      "execution_count": 17,
      "outputs": [
        {
          "output_type": "execute_result",
          "data": {
            "text/html": [
              "<div>\n",
              "<style scoped>\n",
              "    .dataframe tbody tr th:only-of-type {\n",
              "        vertical-align: middle;\n",
              "    }\n",
              "\n",
              "    .dataframe tbody tr th {\n",
              "        vertical-align: top;\n",
              "    }\n",
              "\n",
              "    .dataframe thead th {\n",
              "        text-align: right;\n",
              "    }\n",
              "</style>\n",
              "<table border=\"1\" class=\"dataframe\">\n",
              "  <thead>\n",
              "    <tr style=\"text-align: right;\">\n",
              "      <th></th>\n",
              "      <th>Actual</th>\n",
              "      <th>Predicted</th>\n",
              "    </tr>\n",
              "  </thead>\n",
              "  <tbody>\n",
              "    <tr>\n",
              "      <th>0</th>\n",
              "      <td>79.775152</td>\n",
              "      <td>76.939770</td>\n",
              "    </tr>\n",
              "    <tr>\n",
              "      <th>1</th>\n",
              "      <td>23.177279</td>\n",
              "      <td>20.896188</td>\n",
              "    </tr>\n",
              "    <tr>\n",
              "      <th>2</th>\n",
              "      <td>25.609262</td>\n",
              "      <td>21.896966</td>\n",
              "    </tr>\n",
              "    <tr>\n",
              "      <th>3</th>\n",
              "      <td>17.857388</td>\n",
              "      <td>19.895409</td>\n",
              "    </tr>\n",
              "    <tr>\n",
              "      <th>4</th>\n",
              "      <td>41.849864</td>\n",
              "      <td>35.907861</td>\n",
              "    </tr>\n",
              "    <tr>\n",
              "      <th>...</th>\n",
              "      <td>...</td>\n",
              "      <td>...</td>\n",
              "    </tr>\n",
              "    <tr>\n",
              "      <th>295</th>\n",
              "      <td>68.545888</td>\n",
              "      <td>70.935100</td>\n",
              "    </tr>\n",
              "    <tr>\n",
              "      <th>296</th>\n",
              "      <td>47.334876</td>\n",
              "      <td>45.915644</td>\n",
              "    </tr>\n",
              "    <tr>\n",
              "      <th>297</th>\n",
              "      <td>54.090637</td>\n",
              "      <td>54.922648</td>\n",
              "    </tr>\n",
              "    <tr>\n",
              "      <th>298</th>\n",
              "      <td>63.297171</td>\n",
              "      <td>61.928096</td>\n",
              "    </tr>\n",
              "    <tr>\n",
              "      <th>299</th>\n",
              "      <td>52.459467</td>\n",
              "      <td>46.916422</td>\n",
              "    </tr>\n",
              "  </tbody>\n",
              "</table>\n",
              "<p>300 rows × 2 columns</p>\n",
              "</div>"
            ],
            "text/plain": [
              "        Actual  Predicted\n",
              "0    79.775152  76.939770\n",
              "1    23.177279  20.896188\n",
              "2    25.609262  21.896966\n",
              "3    17.857388  19.895409\n",
              "4    41.849864  35.907861\n",
              "..         ...        ...\n",
              "295  68.545888  70.935100\n",
              "296  47.334876  45.915644\n",
              "297  54.090637  54.922648\n",
              "298  63.297171  61.928096\n",
              "299  52.459467  46.916422\n",
              "\n",
              "[300 rows x 2 columns]"
            ]
          },
          "metadata": {
            "tags": []
          },
          "execution_count": 17
        }
      ]
    },
    {
      "cell_type": "code",
      "metadata": {
        "colab": {
          "base_uri": "https://localhost:8080/",
          "height": 295
        },
        "id": "qdCQxDXOtytI",
        "outputId": "44269e01-4ab0-4834-b479-9ebf3dc73281"
      },
      "source": [
        "residual = y_test-y_prediction\n",
        "plt.scatter(residual,y_prediction,color='black')\n",
        "plt.title('residual plot')\n",
        "plt.xlabel('residual')\n",
        "plt.ylabel('predicted y')\n",
        "plt.show()"
      ],
      "execution_count": 18,
      "outputs": [
        {
          "output_type": "display_data",
          "data": {
            "image/png": "[encoded data removed]",
            "text/plain": [
              "<Figure size 432x288 with 1 Axes>"
            ]
          },
          "metadata": {
            "tags": [],
            "needs_background": "light"
          }
        }
      ]
    }
  ]
}