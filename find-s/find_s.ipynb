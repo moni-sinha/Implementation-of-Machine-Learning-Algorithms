{
  "nbformat": 4,
  "nbformat_minor": 0,
  "metadata": {
    "colab": {
      "name": "find_s.ipynb",
      "provenance": []
    },
    "kernelspec": {
      "name": "python3",
      "display_name": "Python 3"
    },
    "language_info": {
      "name": "python"
    }
  },
  "cells": [
    {
      "cell_type": "code",
      "metadata": {
        "id": "eBov9ArOxrJM"
      },
      "source": [
        "import pandas as pd\n",
        "import numpy as np"
      ],
      "execution_count": 21,
      "outputs": []
    },
    {
      "cell_type": "code",
      "metadata": {
        "colab": {
          "base_uri": "https://localhost:8080/",
          "height": 300
        },
        "id": "M3Mvxl4g0OMz",
        "outputId": "e6de76ae-b3ef-45b5-d432-4c73f9c5151c"
      },
      "source": [
        "data = pd.read_csv(r\"/content/6.seeds.csv\")\n",
        "data"
      ],
      "execution_count": 22,
      "outputs": [
        {
          "output_type": "execute_result",
          "data": {
            "text/html": [
              "<div>\n",
              "<style scoped>\n",
              "    .dataframe tbody tr th:only-of-type {\n",
              "        vertical-align: middle;\n",
              "    }\n",
              "\n",
              "    .dataframe tbody tr th {\n",
              "        vertical-align: top;\n",
              "    }\n",
              "\n",
              "    .dataframe thead th {\n",
              "        text-align: right;\n",
              "    }\n",
              "</style>\n",
              "<table border=\"1\" class=\"dataframe\">\n",
              "  <thead>\n",
              "    <tr style=\"text-align: right;\">\n",
              "      <th></th>\n",
              "      <th>colour</th>\n",
              "      <th>toughness</th>\n",
              "      <th>fungus</th>\n",
              "      <th>appearance</th>\n",
              "      <th>poisonous</th>\n",
              "    </tr>\n",
              "  </thead>\n",
              "  <tbody>\n",
              "    <tr>\n",
              "      <th>0</th>\n",
              "      <td>green</td>\n",
              "      <td>hard</td>\n",
              "      <td>n</td>\n",
              "      <td>wrinkled</td>\n",
              "      <td>yes</td>\n",
              "    </tr>\n",
              "    <tr>\n",
              "      <th>1</th>\n",
              "      <td>green</td>\n",
              "      <td>hard</td>\n",
              "      <td>y</td>\n",
              "      <td>smooth</td>\n",
              "      <td>no</td>\n",
              "    </tr>\n",
              "    <tr>\n",
              "      <th>2</th>\n",
              "      <td>brown</td>\n",
              "      <td>soft</td>\n",
              "      <td>n</td>\n",
              "      <td>wrinkled</td>\n",
              "      <td>no</td>\n",
              "    </tr>\n",
              "    <tr>\n",
              "      <th>3</th>\n",
              "      <td>orange</td>\n",
              "      <td>hard</td>\n",
              "      <td>n</td>\n",
              "      <td>wrinkled</td>\n",
              "      <td>yes</td>\n",
              "    </tr>\n",
              "    <tr>\n",
              "      <th>4</th>\n",
              "      <td>brown</td>\n",
              "      <td>hard</td>\n",
              "      <td>y</td>\n",
              "      <td>smooth</td>\n",
              "      <td>yes</td>\n",
              "    </tr>\n",
              "    <tr>\n",
              "      <th>5</th>\n",
              "      <td>orange</td>\n",
              "      <td>soft</td>\n",
              "      <td>y</td>\n",
              "      <td>wrinkled</td>\n",
              "      <td>no</td>\n",
              "    </tr>\n",
              "    <tr>\n",
              "      <th>6</th>\n",
              "      <td>green</td>\n",
              "      <td>hard</td>\n",
              "      <td>n</td>\n",
              "      <td>wrinkled</td>\n",
              "      <td>yes</td>\n",
              "    </tr>\n",
              "    <tr>\n",
              "      <th>7</th>\n",
              "      <td>green</td>\n",
              "      <td>hard</td>\n",
              "      <td>n</td>\n",
              "      <td>smooth</td>\n",
              "      <td>no</td>\n",
              "    </tr>\n",
              "  </tbody>\n",
              "</table>\n",
              "</div>"
            ],
            "text/plain": [
              "   colour toughness fungus appearance poisonous\n",
              "0   green      hard      n   wrinkled       yes\n",
              "1   green      hard      y     smooth        no\n",
              "2   brown      soft      n   wrinkled        no\n",
              "3  orange      hard      n   wrinkled       yes\n",
              "4   brown      hard      y     smooth       yes\n",
              "5  orange      soft      y   wrinkled        no\n",
              "6   green      hard      n   wrinkled       yes\n",
              "7   green      hard      n     smooth        no"
            ]
          },
          "metadata": {
            "tags": []
          },
          "execution_count": 22
        }
      ]
    },
    {
      "cell_type": "code",
      "metadata": {
        "colab": {
          "base_uri": "https://localhost:8080/"
        },
        "id": "HmZ1UXPi0P2p",
        "outputId": "2fd41295-417f-44d5-f6cb-9c8cc4d95daa"
      },
      "source": [
        "concepts = np.array(data)[:,:-1]\n",
        "concepts"
      ],
      "execution_count": 23,
      "outputs": [
        {
          "output_type": "execute_result",
          "data": {
            "text/plain": [
              "array([['green', 'hard', 'n', 'wrinkled'],\n",
              "       ['green', 'hard', 'y', 'smooth'],\n",
              "       ['brown', 'soft', 'n', 'wrinkled'],\n",
              "       ['orange', 'hard', 'n', 'wrinkled'],\n",
              "       ['brown', 'hard', 'y', 'smooth'],\n",
              "       ['orange', 'soft', 'y', 'wrinkled'],\n",
              "       ['green', 'hard', 'n', 'wrinkled'],\n",
              "       ['green', 'hard', 'n', 'smooth']], dtype=object)"
            ]
          },
          "metadata": {
            "tags": []
          },
          "execution_count": 23
        }
      ]
    },
    {
      "cell_type": "code",
      "metadata": {
        "colab": {
          "base_uri": "https://localhost:8080/"
        },
        "id": "ofWgzABx0P5T",
        "outputId": "267713fa-e014-4750-d6b3-d49f3a50ca6f"
      },
      "source": [
        "target = np.array(data)[:,-1]\n",
        "target"
      ],
      "execution_count": 24,
      "outputs": [
        {
          "output_type": "execute_result",
          "data": {
            "text/plain": [
              "array(['yes', 'no', 'no', 'yes', 'yes', 'no', 'yes', 'no'], dtype=object)"
            ]
          },
          "metadata": {
            "tags": []
          },
          "execution_count": 24
        }
      ]
    },
    {
      "cell_type": "code",
      "metadata": {
        "id": "-JoJZpVm0P76"
      },
      "source": [
        "def hypothesis(con, tar):\n",
        "    for i, val in enumerate(tar):\n",
        "        if val == 'yes':\n",
        "            specific_h = con[i].copy()\n",
        "            print(specific_h)\n",
        "            break\n",
        "    count=0       \n",
        "    for i, val in enumerate(con):\n",
        "        count=count+1\n",
        "        print(\"\\n\")\n",
        "        print(\"count=\",count)\n",
        "        print(\"concept=\",con[i])\n",
        "        print(\"target[i]=\",target[i])\n",
        "        if target[i]=='yes':\n",
        "            for x in range(len(specific_h)):\n",
        "                if val[x] != specific_h[x]:\n",
        "                    specific_h[x] = '?'\n",
        "                    print(specific_h)\n",
        "                else:\n",
        "                    pass\n",
        "    return specific_h"
      ],
      "execution_count": 25,
      "outputs": []
    },
    {
      "cell_type": "code",
      "metadata": {
        "colab": {
          "base_uri": "https://localhost:8080/"
        },
        "id": "95bQRWjH0P-c",
        "outputId": "27ff2c9f-e79b-413d-e0f9-3da616a134a7"
      },
      "source": [
        "print(hypothesis(concepts, target))"
      ],
      "execution_count": 26,
      "outputs": [
        {
          "output_type": "stream",
          "text": [
            "['green' 'hard' 'n' 'wrinkled']\n",
            "\n",
            "\n",
            "count= 1\n",
            "concept= ['green' 'hard' 'n' 'wrinkled']\n",
            "target[i]= yes\n",
            "\n",
            "\n",
            "count= 2\n",
            "concept= ['green' 'hard' 'y' 'smooth']\n",
            "target[i]= no\n",
            "\n",
            "\n",
            "count= 3\n",
            "concept= ['brown' 'soft' 'n' 'wrinkled']\n",
            "target[i]= no\n",
            "\n",
            "\n",
            "count= 4\n",
            "concept= ['orange' 'hard' 'n' 'wrinkled']\n",
            "target[i]= yes\n",
            "['?' 'hard' 'n' 'wrinkled']\n",
            "\n",
            "\n",
            "count= 5\n",
            "concept= ['brown' 'hard' 'y' 'smooth']\n",
            "target[i]= yes\n",
            "['?' 'hard' 'n' 'wrinkled']\n",
            "['?' 'hard' '?' 'wrinkled']\n",
            "['?' 'hard' '?' '?']\n",
            "\n",
            "\n",
            "count= 6\n",
            "concept= ['orange' 'soft' 'y' 'wrinkled']\n",
            "target[i]= no\n",
            "\n",
            "\n",
            "count= 7\n",
            "concept= ['green' 'hard' 'n' 'wrinkled']\n",
            "target[i]= yes\n",
            "['?' 'hard' '?' '?']\n",
            "['?' 'hard' '?' '?']\n",
            "['?' 'hard' '?' '?']\n",
            "\n",
            "\n",
            "count= 8\n",
            "concept= ['green' 'hard' 'n' 'smooth']\n",
            "target[i]= no\n",
            "['?' 'hard' '?' '?']\n"
          ],
          "name": "stdout"
        }
      ]
    }
  ]
}